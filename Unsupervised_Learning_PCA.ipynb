{
  "nbformat": 4,
  "nbformat_minor": 0,
  "metadata": {
    "colab": {
      "provenance": [],
      "authorship_tag": "ABX9TyNlORaylToe5HDa60FF0aVJ",
      "include_colab_link": true
    },
    "kernelspec": {
      "name": "python3",
      "display_name": "Python 3"
    },
    "language_info": {
      "name": "python"
    }
  },
  "cells": [
    {
      "cell_type": "markdown",
      "metadata": {
        "id": "view-in-github",
        "colab_type": "text"
      },
      "source": [
        "<a href=\"https://colab.research.google.com/github/FanmeiWang/AI_Learning_Projects/blob/main/Unsupervised_Learning_PCA.ipynb\" target=\"_parent\"><img src=\"https://colab.research.google.com/assets/colab-badge.svg\" alt=\"Open In Colab\"/></a>"
      ]
    },
    {
      "cell_type": "code",
      "execution_count": null,
      "metadata": {
        "id": "CbBhOeky2CrL"
      },
      "outputs": [],
      "source": [
        "# Import necessary libraries\n",
        "from sklearn.decomposition import PCA\n",
        "import matplotlib.pyplot as plt\n",
        "\n",
        "# Load and prepare data\n",
        "# Assume 'DATA' is the dataset containing the anonymized columns VAR1, VAR2, VAR3\n",
        "X = DATA[['VAR1', 'VAR2', 'VAR3']]  # Features for PCA\n",
        "\n",
        "# Apply PCA to reduce data to 2 components\n",
        "pca = PCA(n_components=2)\n",
        "X_pca = pca.fit_transform(X)\n",
        "\n",
        "# Add PCA components to the dataset for visualization\n",
        "DATA['PCA1'] = X_pca[:, 0]\n",
        "DATA['PCA2'] = X_pca[:, 1]\n",
        "\n",
        "# Print explained variance ratios\n",
        "print(\"PCA Explained Variance Ratio:\", pca.explained_variance_ratio_)\n",
        "\n",
        "# Visualize the PCA components\n",
        "plt.scatter(X_pca[:, 0], X_pca[:, 1], c=DATA['CLUSTER'], cmap='viridis', edgecolor='k')\n",
        "plt.title('PCA Visualization')\n",
        "plt.xlabel('Principal Component 1')\n",
        "plt.ylabel('Principal Component 2')\n",
        "plt.colorbar(label='Cluster')\n",
        "plt.show()\n"
      ]
    }
  ]
}