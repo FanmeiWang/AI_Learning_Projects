{
  "nbformat": 4,
  "nbformat_minor": 0,
  "metadata": {
    "colab": {
      "provenance": [],
      "authorship_tag": "ABX9TyNJOaeUM3/0fQphiRUuepQY",
      "include_colab_link": true
    },
    "kernelspec": {
      "name": "python3",
      "display_name": "Python 3"
    },
    "language_info": {
      "name": "python"
    }
  },
  "cells": [
    {
      "cell_type": "markdown",
      "metadata": {
        "id": "view-in-github",
        "colab_type": "text"
      },
      "source": [
        "<a href=\"https://colab.research.google.com/github/FanmeiWang/AI_Learning_Projects/blob/main/Unsupervised_Learning_K_Means_Clustering.ipynb\" target=\"_parent\"><img src=\"https://colab.research.google.com/assets/colab-badge.svg\" alt=\"Open In Colab\"/></a>"
      ]
    },
    {
      "cell_type": "code",
      "execution_count": null,
      "metadata": {
        "id": "BE3NZFQ32kXy"
      },
      "outputs": [],
      "source": [
        "# Import necessary libraries\n",
        "from sklearn.cluster import KMeans\n",
        "from sklearn.metrics import pairwise_distances\n",
        "import pandas as pd\n",
        "\n",
        "# Load and prepare data\n",
        "# Assume 'DATA' is the dataset containing the anonymized columns VAR1, VAR2, VAR3\n",
        "X = DATA[['VAR1', 'VAR2', 'VAR3']]  # Features for clustering\n",
        "\n",
        "# Apply K-Means clustering with Manhattan distance\n",
        "kmeans = KMeans(n_clusters=3, random_state=42)\n",
        "kmeans.fit(pairwise_distances(X, metric='manhattan'))\n",
        "\n",
        "# Add cluster labels to the dataset\n",
        "DATA['CLUSTER'] = kmeans.labels_\n",
        "\n",
        "# Save the labeled dataset\n",
        "DATA.to_csv('labeled_DATA.csv', index=False)\n",
        "\n",
        "# Print the first few rows of the updated dataset\n",
        "print(DATA.head())\n"
      ]
    }
  ]
}