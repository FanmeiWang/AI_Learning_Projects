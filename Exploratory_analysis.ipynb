{
  "nbformat": 4,
  "nbformat_minor": 0,
  "metadata": {
    "colab": {
      "provenance": [],
      "name": "Exploratory_analysis.ipynb",
      "authorship_tag": "ABX9TyOKTnBTloeURYeWFXHBV/C8",
      "include_colab_link": true
    },
    "kernelspec": {
      "name": "python3",
      "display_name": "Python 3"
    },
    "language_info": {
      "name": "python"
    }
  },
  "cells": [
    {
      "cell_type": "markdown",
      "metadata": {
        "id": "view-in-github",
        "colab_type": "text"
      },
      "source": [
        "<a href=\"https://colab.research.google.com/github/FanmeiWang/AI_Learning_Projects/blob/main/Exploratory_analysis.ipynb\" target=\"_parent\"><img src=\"https://colab.research.google.com/assets/colab-badge.svg\" alt=\"Open In Colab\"/></a>"
      ]
    },
    {
      "cell_type": "code",
      "execution_count": null,
      "metadata": {
        "id": "caad9a86"
      },
      "outputs": [],
      "source": [
        "# exploratory_analysis.ipynb\n",
        "# Auto-generated module: exploratory_analysis.ipynb\n",
        "# Contains code extracted from the notebook\n",
        "\n",
        "import pandas as pd\n",
        "import matplotlib.pyplot as plt\n",
        "from sklearn.feature_selection import chi2, mutual_info_regression\n",
        "from sklearn.ensemble import RandomForestRegressor\n",
        "\n",
        "# Load the dataset with generic name\n",
        "df = pd.read_csv(\"data.csv\")\n",
        "\n",
        "# Assuming VAR1 is the target variable, and other columns are features\n",
        "# Calculate and plot correlation with target variable (VAR1)\n",
        "correlation = df.corr()\n",
        "correlation['VAR1'].plot(kind='bar', title='Correlation with VAR1')\n",
        "plt.show()\n",
        "\n",
        "# Calculate and plot Chi-Square scores to assess feature independence with target\n",
        "X = df.drop(columns=['VAR1'])  # Drop target variable from features\n",
        "y = df['VAR1']  # Define target variable\n",
        "chi_scores, p_values = chi2(X, y)  # Calculate chi-square scores\n",
        "pd.Series(chi_scores, index=X.columns).sort_values(ascending=False).plot(kind='bar', title='Chi-Square Scores')\n",
        "plt.show()\n",
        "\n",
        "# Calculate and plot Mutual Information scores to capture non-linear relationships with the target\n",
        "mutual_info = mutual_info_regression(X, y)\n",
        "mutual_info_series = pd.Series(mutual_info, index=X.columns)\n",
        "mutual_info_series.sort_values(ascending=False).plot(kind='bar', title='Mutual Information Scores')\n",
        "plt.show()\n",
        "\n",
        "# Calculate and plot Random Forest feature importances to identify predictive features\n",
        "model = RandomForestRegressor()\n",
        "model.fit(X, y)\n",
        "feature_importances = pd.Series(model.feature_importances_, index=X.columns)\n",
        "feature_importances.sort_values(ascending=False).plot(kind='bar', title='Random Forest Feature Importances')\n",
        "plt.show()\n"
      ]
    }
  ]
}