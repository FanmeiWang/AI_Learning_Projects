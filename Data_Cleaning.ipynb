{
  "nbformat": 4,
  "nbformat_minor": 0,
  "metadata": {
    "colab": {
      "provenance": [],
      "authorship_tag": "ABX9TyOSKWManoXC3M4w+Pgcv44s",
      "include_colab_link": true
    },
    "kernelspec": {
      "name": "python3",
      "display_name": "Python 3"
    },
    "language_info": {
      "name": "python"
    }
  },
  "cells": [
    {
      "cell_type": "markdown",
      "metadata": {
        "id": "view-in-github",
        "colab_type": "text"
      },
      "source": [
        "<a href=\"https://colab.research.google.com/github/FanmeiWang/AI_Learning_Projects/blob/main/Data_Cleaning.ipynb\" target=\"_parent\"><img src=\"https://colab.research.google.com/assets/colab-badge.svg\" alt=\"Open In Colab\"/></a>"
      ]
    },
    {
      "cell_type": "code",
      "execution_count": null,
      "metadata": {
        "id": "IniPiwyp4XTm"
      },
      "outputs": [],
      "source": [
        "# Created by Fanmei Wang on Nov. 06, 2024\n",
        "# load_data.ipynb\n",
        "# Auto-generated module: load_data.ipynb\n",
        "# Contains code extracted from the notebook\n",
        "\n",
        "# Load the data.csv\n",
        "df = pd.read_csv(\"data.csv\")\n",
        "\n",
        "# Select numerical columns\n",
        "num_columns = df.select_dtypes(include=['float64', 'int64']).columns\n",
        "\n",
        "# Fill missing values in numerical columns with the mean of each column\n",
        "df[num_columns] = df[num_columns].fillna(df[num_columns].mean())\n",
        "\n",
        "df_melb = pd.read_csv(\"data.csv\")\n",
        "\n",
        "# Created by Fanmei Wang on Nov. 06, 2024\n",
        "\n",
        "# clean_data.ipynb\n",
        "# Auto-generated module: clean_data.ipynb\n",
        "# Contains code extracted from the notebook\n",
        "\n",
        "# Fill missing values for numerical columns using the median\n",
        "df_melb['VAR1'].fillna(df_melb['VAR1'].median())\n",
        "df_melb['VAR2'].fillna(df_melb['VAR2'].median())\n",
        "df_melb['VAR3'].fillna(df_melb['VAR3'].median())\n",
        "df_melb['VAR4'].fillna(df_melb['VAR4'].median())\n",
        "\n",
        "# Fill missing values for categorical columns using the mode\n",
        "df_melb['VAR5'].fillna(df_melb['VAR5'].mode()[0])\n",
        "df_melb['VAR6'].fillna(df_melb['VAR6'].mode()[0])\n",
        "\n",
        "# Optional: Preview the cleaned dataset\n",
        "print(df_melb.head())\n"
      ]
    }
  ]
}