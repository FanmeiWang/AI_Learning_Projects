{
  "nbformat": 4,
  "nbformat_minor": 0,
  "metadata": {
    "colab": {
      "provenance": [],
      "authorship_tag": "ABX9TyPgW1boZT2mGjR1mOPBcIu3"
    },
    "kernelspec": {
      "name": "python3",
      "display_name": "Python 3"
    },
    "language_info": {
      "name": "python"
    }
"author": "Fanmei Wang",  
    "creation_date": "2024-11-06"  
  },
  "cells": [
    {
      "cell_type": "code",
      "execution_count": null,
      "metadata": {
        "id": "wcU3G2opF6SO"
      },
      "outputs": [],
      "source": []
    },
    {
      "cell_type": "code",
      "execution_count": null,
      "metadata": {
        "id": "f2ddefe1"
      },
      "outputs": [],
      "source": [
        "# load_data.ipynb\n",
        "# Auto-generated module: load_data.ipynb\n",
        "# Contains code extracted from the notebook\n",
        "\n",
        "# Load the data.csv\n",
        "df = pd.read_csv(\"data.csv\")\n",
        "\n",
        "# Select numerical columns\n",
        "num_columns = df.select_dtypes(include=['float64', 'int64']).columns\n",
        "\n",
        "# Fill missing values in numerical columns with the mean of each column\n",
        "df[num_columns] = df[num_columns].fillna(df[num_columns].mean())\n",
        "\n",
        "df_melb = pd.read_csv(\"data.csv\")\n",
        "\n",
        "\n"
      ]
    },
    {
      "cell_type": "code",
      "execution_count": null,
      "metadata": {
        "id": "1ad7db40"
      },
      "outputs": [],
      "source": [
        "# clean_data.ipynb\n",
        "# Auto-generated module: clean_data.ipynb\n",
        "# Contains code extracted from the notebook\n",
        "\n",
        "# Fill missing values for numerical columns using the median\n",
        "df_melb['VAR1'].fillna(df_melb['VAR1'].median())\n",
        "df_melb['VAR2'].fillna(df_melb['VAR2'].median())\n",
        "df_melb['VAR3'].fillna(df_melb['VAR3'].median())\n",
        "df_melb['VAR4'].fillna(df_melb['VAR4'].median())\n",
        "\n",
        "# Fill missing values for categorical columns using the mode\n",
        "df_melb['VAR5'].fillna(df_melb['VAR5'].mode()[0])\n",
        "df_melb['VAR6'].fillna(df_melb['VAR6'].mode()[0])\n",
        "\n",
        "# Optional: Preview the cleaned dataset\n",
        "print(df_melb.head())\n",
        "\n"
      ]
    }
  ]
}
