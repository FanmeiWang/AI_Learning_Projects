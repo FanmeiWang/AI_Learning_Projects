{
  "nbformat": 4,
  "nbformat_minor": 0,
  "metadata": {
    "colab": {
      "provenance": [],
      "authorship_tag": "ABX9TyONHV3DBeB6uZ9qivPovx3c",
      "include_colab_link": true
    },
    "kernelspec": {
      "name": "python3",
      "display_name": "Python 3"
    },
    "language_info": {
      "name": "python"
    }
  },
  "cells": [
    {
      "cell_type": "markdown",
      "metadata": {
        "id": "view-in-github",
        "colab_type": "text"
      },
      "source": [
        "<a href=\"https://colab.research.google.com/github/FanmeiWang/AI_Learning_Projects/blob/main/Supervised_Learning_LDA.ipynb\" target=\"_parent\"><img src=\"https://colab.research.google.com/assets/colab-badge.svg\" alt=\"Open In Colab\"/></a>"
      ]
    },
    {
      "cell_type": "code",
      "source": [
        "# Created by Fanmei Wang on Nov. 17, 2024\n",
        "# Import necessary libraries\n",
        "from sklearn.discriminant_analysis import LinearDiscriminantAnalysis as LDA\n",
        "from sklearn.model_selection import train_test_split\n",
        "from sklearn.linear_model import LogisticRegression\n",
        "from sklearn.metrics import classification_report\n",
        "import matplotlib.pyplot as plt\n",
        "import pandas as pd\n",
        "\n",
        "# Load and prepare data\n",
        "# Assume 'DATA' is the dataset containing the anonymized columns VAR1, VAR2, VAR3, TARGET\n",
        "DATA = pd.read_csv('data.csv')  # Replace with the actual path to your dataset\n",
        "X = DATA[['VAR1', 'VAR2', 'VAR3']]  # Features\n",
        "y = DATA['TARGET']  # Target variable\n",
        "\n",
        "# Split dataset into training and testing sets\n",
        "X_train, X_test, y_train, y_test = train_test_split(X, y, test_size=0.2, random_state=42)\n",
        "\n",
        "# Apply LDA (1 component)\n",
        "lda = LDA(n_components=1)\n",
        "X_train_lda = lda.fit_transform(X_train, y_train)\n",
        "X_test_lda = lda.transform(X_test)\n",
        "\n",
        "# Train a Logistic Regression model on LDA-reduced data\n",
        "model = LogisticRegression(random_state=42)\n",
        "model.fit(X_train_lda, y_train)\n",
        "\n",
        "# Predict and evaluate\n",
        "y_pred = model.predict(X_test_lda)\n",
        "print(\"LDA + Logistic Regression:\\n\", classification_report(y_test, y_pred))\n",
        "\n",
        "# Visualize LDA results\n",
        "plt.scatter(X_train_lda[:, 0], y_train, c=y_train, cmap='viridis', edgecolor='k')\n",
        "plt.title('LDA Visualization')\n",
        "plt.xlabel('Linear Discriminant 1')\n",
        "plt.ylabel('Classes')\n",
        "plt.colorbar(label='Class')\n",
        "plt.show()\n"
      ],
      "metadata": {
        "id": "QwQEz0Ut7eCa"
      },
      "execution_count": null,
      "outputs": []
    }
  ]
}